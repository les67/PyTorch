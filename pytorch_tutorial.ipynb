{
  "nbformat": 4,
  "nbformat_minor": 0,
  "metadata": {
    "colab": {
      "name": "pytorch_tutorial.ipynb",
      "provenance": [],
      "authorship_tag": "ABX9TyP38pTI0Hm0iap2pVms0d7S",
      "include_colab_link": true
    },
    "kernelspec": {
      "name": "python3",
      "display_name": "Python 3"
    },
    "language_info": {
      "name": "python"
    },
    "accelerator": "GPU"
  },
  "cells": [
    {
      "cell_type": "markdown",
      "metadata": {
        "id": "view-in-github",
        "colab_type": "text"
      },
      "source": [
        "<a href=\"https://colab.research.google.com/github/les67/PyTorch/blob/main/pytorch_tutorial.ipynb\" target=\"_parent\"><img src=\"https://colab.research.google.com/assets/colab-badge.svg\" alt=\"Open In Colab\"/></a>"
      ]
    },
    {
      "cell_type": "markdown",
      "source": [
        "# Quickly Learning Pytorch Basics\n",
        "  - Following: [https://github.com/yunjey/pytorch-tutorial](https://github.com/yunjey/pytorch-tutorial)\n",
        "\n",
        "## 1. Linear Regression Model "
      ],
      "metadata": {
        "id": "f-nFEHlBuE25"
      }
    },
    {
      "cell_type": "code",
      "execution_count": 1,
      "metadata": {
        "id": "Omcj6JgBtNOM"
      },
      "outputs": [],
      "source": [
        "import torch\n",
        "import torch.nn as nn\n",
        "import numpy as np\n",
        "import matplotlib.pyplot as plt"
      ]
    },
    {
      "cell_type": "markdown",
      "source": [
        "- The weird formatting for x_train and y_train is the only way the line `outputs = model(inputs)` works during training. If you take out the unnecessary dimension it complains with `RuntimeError: mat1 and mat2 shapes cannot be multiplied (1x15 and 1x1)`. Weird "
      ],
      "metadata": {
        "id": "K4TTZBenuRxd"
      }
    },
    {
      "cell_type": "code",
      "source": [
        "# Hyper-parameters\n",
        "input_size = 1\n",
        "output_size = 1\n",
        "num_epochs = 60\n",
        "learning_rate = 0.001\n",
        "\n",
        "# Toy dataset\n",
        "x_train = np.array([[3.3], [4.4], [5.5], [6.71], [6.93], [4.168], \n",
        "                    [9.779], [6.182], [7.59], [2.167], [7.042], \n",
        "                    [10.791], [5.313], [7.997], [3.1]], dtype=np.float32)\n",
        "\n",
        "y_train = np.array([[1.7], [2.76], [2.09], [3.19], [1.694], [1.573], \n",
        "                    [3.366], [2.596], [2.53], [1.221], [2.827], \n",
        "                    [3.465], [1.65], [2.904], [1.3]], dtype=np.float32)"
      ],
      "metadata": {
        "id": "iFPEZbfytU0x"
      },
      "execution_count": 13,
      "outputs": []
    },
    {
      "cell_type": "markdown",
      "source": [
        "- Single neural layer to approximate linear regression\n",
        "  - One input (x) and one output (y)\n",
        "- Stochastic gradient descent with fixed learning rate"
      ],
      "metadata": {
        "id": "jA663FOIuzBb"
      }
    },
    {
      "cell_type": "code",
      "source": [
        "# Linear regression model\n",
        "model = nn.Linear(input_size, output_size) # A single nueral layer\n",
        "\n",
        "# Loss and optimizer\n",
        "criterion = nn.MSELoss() # Mean-squared Error\n",
        "optimizer = torch.optim.SGD(model.parameters(), lr=learning_rate) # Stochastic gradient descent "
      ],
      "metadata": {
        "id": "WOz3Fs9ltVwy"
      },
      "execution_count": 14,
      "outputs": []
    },
    {
      "cell_type": "markdown",
      "source": [
        "- The following seems to be the basic pattern to train in pytorch\n",
        "- `loss.backward()` computes dloss/dx for every parameter x which has requires_grad=True\n",
        "- These are accumulated into x.grad for every parameter x: x.grad += dloss/dx\n",
        "- `optimizer.step` updates the value of x using the gradient x.grad\n",
        "  - Ex. the SGD optimizer performs: x += -lr * x.grad\n",
        "- `optimizer.zero_grad()` clears x.grad for every parameter x in the optimizer. It’s important to call this before `loss.backward()`, otherwise you’ll accumulate the gradients from multiple passes\n",
        "- If you have multiple losses (loss1, loss2) you can sum them and then call backwards once:\n",
        "  - `loss3 = loss1 + loss2; loss3.backward()`"
      ],
      "metadata": {
        "id": "SAG_8rYmvDf7"
      }
    },
    {
      "cell_type": "code",
      "source": [
        "# Train the model\n",
        "for epoch in range(num_epochs):\n",
        "    # Convert numpy arrays to torch tensors\n",
        "    inputs = torch.from_numpy(x_train)\n",
        "    targets = torch.from_numpy(y_train)\n",
        "\n",
        "    # Forward pass\n",
        "    outputs = model(inputs)\n",
        "    loss = criterion(outputs, targets)\n",
        "    \n",
        "    # Backward and optimize\n",
        "    optimizer.zero_grad()\n",
        "    loss.backward()\n",
        "    optimizer.step()\n",
        "    \n",
        "    if (epoch+1) % 5 == 0:\n",
        "        print ('Epoch [{}/{}], Loss: {:.4f}'.format(epoch+1, num_epochs, loss.item()))\n"
      ],
      "metadata": {
        "colab": {
          "base_uri": "https://localhost:8080/"
        },
        "id": "9RpShGW0tWvY",
        "outputId": "ef57f73b-bc36-40e5-84a5-c5ed2ccd8c19"
      },
      "execution_count": 15,
      "outputs": [
        {
          "output_type": "stream",
          "name": "stdout",
          "text": [
            "Epoch [5/60], Loss: 6.5052\n",
            "Epoch [10/60], Loss: 2.7465\n",
            "Epoch [15/60], Loss: 1.2238\n",
            "Epoch [20/60], Loss: 0.6069\n",
            "Epoch [25/60], Loss: 0.3570\n",
            "Epoch [30/60], Loss: 0.2557\n",
            "Epoch [35/60], Loss: 0.2146\n",
            "Epoch [40/60], Loss: 0.1980\n",
            "Epoch [45/60], Loss: 0.1912\n",
            "Epoch [50/60], Loss: 0.1884\n",
            "Epoch [55/60], Loss: 0.1873\n",
            "Epoch [60/60], Loss: 0.1868\n"
          ]
        }
      ]
    },
    {
      "cell_type": "code",
      "source": [
        "inputs"
      ],
      "metadata": {
        "colab": {
          "base_uri": "https://localhost:8080/"
        },
        "id": "G4KxoV2PvJvV",
        "outputId": "69abab0a-e7c1-4f03-aee8-ecf9c54b0cd6"
      },
      "execution_count": 17,
      "outputs": [
        {
          "output_type": "execute_result",
          "data": {
            "text/plain": [
              "tensor([[ 3.3000],\n",
              "        [ 4.4000],\n",
              "        [ 5.5000],\n",
              "        [ 6.7100],\n",
              "        [ 6.9300],\n",
              "        [ 4.1680],\n",
              "        [ 9.7790],\n",
              "        [ 6.1820],\n",
              "        [ 7.5900],\n",
              "        [ 2.1670],\n",
              "        [ 7.0420],\n",
              "        [10.7910],\n",
              "        [ 5.3130],\n",
              "        [ 7.9970],\n",
              "        [ 3.1000]])"
            ]
          },
          "metadata": {},
          "execution_count": 17
        }
      ]
    },
    {
      "cell_type": "code",
      "source": [
        "# Plot the graph\n",
        "predicted = model(torch.from_numpy(x_train)).detach().numpy()\n",
        "plt.plot(x_train, y_train, 'ro', label='Original data')\n",
        "plt.plot(x_train, predicted, label='Fitted line')\n",
        "plt.legend()\n",
        "plt.show()"
      ],
      "metadata": {
        "colab": {
          "base_uri": "https://localhost:8080/",
          "height": 265
        },
        "id": "POcpp-1Ntmjm",
        "outputId": "c861732a-5e38-48cc-d57d-5668ff8d2b4d"
      },
      "execution_count": 16,
      "outputs": [
        {
          "output_type": "display_data",
          "data": {
            "text/plain": [
              "<Figure size 432x288 with 1 Axes>"
            ],
            "image/png": "[encoded data removed]"
          },
          "metadata": {
            "needs_background": "light"
          }
        }
      ]
    },
    {
      "cell_type": "markdown",
      "source": [
        "## 2. Logistic Regression Model"
      ],
      "metadata": {
        "id": "J01V-k3zwH9R"
      }
    },
    {
      "cell_type": "code",
      "source": [
        "import torch\n",
        "import torch.nn as nn\n",
        "import torchvision\n",
        "import torchvision.transforms as transforms"
      ],
      "metadata": {
        "id": "IfGzqdpvwHN1"
      },
      "execution_count": 18,
      "outputs": []
    },
    {
      "cell_type": "markdown",
      "source": [
        "- We use a batch size this time yay!\n",
        "- Dataset is the MNIST handwritten images which we want to classify into 10 possible digits (1,2,3,...,10)"
      ],
      "metadata": {
        "id": "oEHHywX0wQaZ"
      }
    },
    {
      "cell_type": "code",
      "source": [
        "# Hyper-parameters \n",
        "input_size = 28 * 28    # 784\n",
        "num_classes = 10\n",
        "num_epochs = 5\n",
        "batch_size = 100\n",
        "learning_rate = 0.001"
      ],
      "metadata": {
        "id": "4R_5gcXTwNcB"
      },
      "execution_count": 33,
      "outputs": []
    },
    {
      "cell_type": "markdown",
      "source": [
        "- Load train and testing data\n",
        "- Standard scale the data"
      ],
      "metadata": {
        "id": "qj_PN7gR1p8x"
      }
    },
    {
      "cell_type": "code",
      "source": [
        "# MNIST dataset (images and labels)\n",
        "train_dataset = torchvision.datasets.MNIST(root='../../data', \n",
        "                                           train=True, \n",
        "                                           transform=transforms.Compose([\n",
        "                                           transforms.ToTensor(),\n",
        "                                           transforms.Normalize((0.1307,), (0.3081,))]), # standard scaling with mean and std of MNIST set\n",
        "                                           download=True)\n",
        "\n",
        "test_dataset = torchvision.datasets.MNIST(root='../../data', \n",
        "                                          train=False, \n",
        "                                          transform=transforms.Compose([\n",
        "                                           transforms.ToTensor(),\n",
        "                                           transforms.Normalize((0.1307,), (0.3081,))]),\n",
        "                                          )\n",
        "\n",
        "# Data loader (input pipeline)\n",
        "train_loader = torch.utils.data.DataLoader(dataset=train_dataset, \n",
        "                                           batch_size=batch_size, \n",
        "                                           shuffle=True)\n",
        "\n",
        "test_loader = torch.utils.data.DataLoader(dataset=test_dataset, \n",
        "                                          batch_size=batch_size, \n",
        "                                          shuffle=False)"
      ],
      "metadata": {
        "id": "Mcw01GrkwPT2"
      },
      "execution_count": 34,
      "outputs": []
    },
    {
      "cell_type": "code",
      "source": [
        "# Logistic regression model\n",
        "model = nn.Linear(input_size, num_classes)"
      ],
      "metadata": {
        "id": "Yip7FOd1yT6r"
      },
      "execution_count": 35,
      "outputs": []
    },
    {
      "cell_type": "markdown",
      "source": [
        "- Use cross-entropy loss since we're dealing with multiclass"
      ],
      "metadata": {
        "id": "zImDZH72xzTi"
      }
    },
    {
      "cell_type": "code",
      "source": [
        "# Loss and optimizer\n",
        "# nn.CrossEntropyLoss() computes softmax internally\n",
        "criterion = nn.CrossEntropyLoss()  \n",
        "optimizer = torch.optim.SGD(model.parameters(), lr=learning_rate)  "
      ],
      "metadata": {
        "id": "70PBs46exo8R"
      },
      "execution_count": 36,
      "outputs": []
    },
    {
      "cell_type": "markdown",
      "source": [
        "- Iterate through specified epochs\n",
        "- For every epoch iterate through batches"
      ],
      "metadata": {
        "id": "v__RDIil2Sn4"
      }
    },
    {
      "cell_type": "code",
      "source": [
        "# Train the model\n",
        "total_step = len(train_loader)\n",
        "for epoch in range(num_epochs):\n",
        "    for i, (images, labels) in enumerate(train_loader):\n",
        "        # Reshape images to (batch_size, input_size)\n",
        "        images = images.reshape(-1, input_size)\n",
        "        \n",
        "        # Forward pass\n",
        "        outputs = model(images)\n",
        "        loss = criterion(outputs, labels)\n",
        "        \n",
        "        # Backward and optimize\n",
        "        optimizer.zero_grad()\n",
        "        loss.backward()\n",
        "        optimizer.step()\n",
        "        \n",
        "        if (i+1) % 100 == 0:\n",
        "            print ('Epoch [{}/{}], Step [{}/{}], Loss: {:.4f}' \n",
        "                   .format(epoch+1, num_epochs, i+1, total_step, loss.item()))"
      ],
      "metadata": {
        "colab": {
          "base_uri": "https://localhost:8080/"
        },
        "id": "Fl6idxaxx3Ii",
        "outputId": "5db8acd8-2fab-443d-b7ea-f3b5a7cb21f1"
      },
      "execution_count": 37,
      "outputs": [
        {
          "output_type": "stream",
          "name": "stdout",
          "text": [
            "Epoch [1/5], Step [100/600], Loss: 1.5786\n",
            "Epoch [1/5], Step [200/600], Loss: 1.0839\n",
            "Epoch [1/5], Step [300/600], Loss: 0.8251\n",
            "Epoch [1/5], Step [400/600], Loss: 0.8874\n",
            "Epoch [1/5], Step [500/600], Loss: 0.7727\n",
            "Epoch [1/5], Step [600/600], Loss: 0.6870\n",
            "Epoch [2/5], Step [100/600], Loss: 0.6643\n",
            "Epoch [2/5], Step [200/600], Loss: 0.6402\n",
            "Epoch [2/5], Step [300/600], Loss: 0.5758\n",
            "Epoch [2/5], Step [400/600], Loss: 0.5755\n",
            "Epoch [2/5], Step [500/600], Loss: 0.6582\n",
            "Epoch [2/5], Step [600/600], Loss: 0.4025\n",
            "Epoch [3/5], Step [100/600], Loss: 0.5142\n",
            "Epoch [3/5], Step [200/600], Loss: 0.4679\n",
            "Epoch [3/5], Step [300/600], Loss: 0.5751\n",
            "Epoch [3/5], Step [400/600], Loss: 0.5129\n",
            "Epoch [3/5], Step [500/600], Loss: 0.5084\n",
            "Epoch [3/5], Step [600/600], Loss: 0.6113\n",
            "Epoch [4/5], Step [100/600], Loss: 0.4673\n",
            "Epoch [4/5], Step [200/600], Loss: 0.4989\n",
            "Epoch [4/5], Step [300/600], Loss: 0.3799\n",
            "Epoch [4/5], Step [400/600], Loss: 0.3718\n",
            "Epoch [4/5], Step [500/600], Loss: 0.3673\n",
            "Epoch [4/5], Step [600/600], Loss: 0.4549\n",
            "Epoch [5/5], Step [100/600], Loss: 0.4606\n",
            "Epoch [5/5], Step [200/600], Loss: 0.3827\n",
            "Epoch [5/5], Step [300/600], Loss: 0.4091\n",
            "Epoch [5/5], Step [400/600], Loss: 0.4684\n",
            "Epoch [5/5], Step [500/600], Loss: 0.4786\n",
            "Epoch [5/5], Step [600/600], Loss: 0.4345\n"
          ]
        }
      ]
    },
    {
      "cell_type": "code",
      "source": [
        "# Test the model\n",
        "# In test phase, we don't need to compute gradients (for memory efficiency)\n",
        "with torch.no_grad():\n",
        "    correct = 0\n",
        "    total = 0\n",
        "    for images, labels in test_loader:\n",
        "        images = images.reshape(-1, input_size)\n",
        "        outputs = model(images)\n",
        "        _, predicted = torch.max(outputs.data, 1)\n",
        "        total += labels.size(0)\n",
        "        correct += (predicted == labels).sum()\n",
        "\n",
        "    print('Accuracy of the model on the 10000 test images: {} %'.format(100 * correct / total))"
      ],
      "metadata": {
        "colab": {
          "base_uri": "https://localhost:8080/"
        },
        "id": "iKjg0MO8yhzb",
        "outputId": "38bce584-7c3a-4947-8445-d026e0f497d5"
      },
      "execution_count": 38,
      "outputs": [
        {
          "output_type": "stream",
          "name": "stdout",
          "text": [
            "Accuracy of the model on the 10000 test images: 89.12000274658203 %\n"
          ]
        }
      ]
    },
    {
      "cell_type": "markdown",
      "source": [
        "- Note: Without standard scaling the accuracy was ~13%, increased to ~89% after standard scaling\n",
        "## 3. Feed-Forward Neural Network"
      ],
      "metadata": {
        "id": "ppk2hHHizcg5"
      }
    },
    {
      "cell_type": "code",
      "source": [
        "import torch\n",
        "import torch.nn as nn\n",
        "import torchvision\n",
        "import torchvision.transforms as transforms"
      ],
      "metadata": {
        "id": "YppRDZphziJf"
      },
      "execution_count": 1,
      "outputs": []
    },
    {
      "cell_type": "code",
      "source": [
        "# Device configuration\n",
        "device = torch.device('cuda' if torch.cuda.is_available() else 'cpu')\n",
        "\n",
        "# Hyper-parameters \n",
        "input_size = 784 # this is 28*28 since each image is 28 by 28 pixels\n",
        "hidden_size = 500\n",
        "num_classes = 10\n",
        "num_epochs = 5\n",
        "batch_size = 100\n",
        "learning_rate = 0.001"
      ],
      "metadata": {
        "id": "03fjwNrT1TGE"
      },
      "execution_count": 2,
      "outputs": []
    },
    {
      "cell_type": "code",
      "source": [
        "# MNIST dataset (images and labels)\n",
        "train_dataset = torchvision.datasets.MNIST(root='../../data', \n",
        "                                           train=True, \n",
        "                                           transform=transforms.Compose([\n",
        "                                           transforms.ToTensor(),\n",
        "                                           transforms.Normalize((0.1307,), (0.3081,))]), # standard scaling with mean and std of MNIST set\n",
        "                                           download=True)\n",
        "\n",
        "test_dataset = torchvision.datasets.MNIST(root='../../data', \n",
        "                                          train=False, \n",
        "                                          transform=transforms.Compose([\n",
        "                                           transforms.ToTensor(),\n",
        "                                           transforms.Normalize((0.1307,), (0.3081,))]),\n",
        "                                          )\n",
        "\n",
        "# Data loader (input pipeline)\n",
        "train_loader = torch.utils.data.DataLoader(dataset=train_dataset, \n",
        "                                           batch_size=batch_size, \n",
        "                                           shuffle=True)\n",
        "\n",
        "test_loader = torch.utils.data.DataLoader(dataset=test_dataset, \n",
        "                                          batch_size=batch_size, \n",
        "                                          shuffle=False)"
      ],
      "metadata": {
        "id": "NA6mu5Qs1ihA"
      },
      "execution_count": 5,
      "outputs": []
    },
    {
      "cell_type": "markdown",
      "source": [
        "- Fully-connected NN with one layer:"
      ],
      "metadata": {
        "id": "hAEuhjgl10kt"
      }
    },
    {
      "cell_type": "code",
      "source": [
        "# Fully connected neural network with one hidden layer\n",
        "class NeuralNet(nn.Module):\n",
        "    def __init__(self, input_size, hidden_size, num_classes):\n",
        "        super(NeuralNet, self).__init__()\n",
        "        self.fc1 = nn.Linear(input_size, hidden_size) \n",
        "        self.relu = nn.ReLU()\n",
        "        self.fc2 = nn.Linear(hidden_size, num_classes)  \n",
        "    \n",
        "    def forward(self, x):\n",
        "        out = self.fc1(x)\n",
        "        out = self.relu(out)\n",
        "        out = self.fc2(out)\n",
        "        return out"
      ],
      "metadata": {
        "id": "fGdxUo6g1xiB"
      },
      "execution_count": 6,
      "outputs": []
    },
    {
      "cell_type": "code",
      "source": [
        "# Model\n",
        "model = NeuralNet(input_size, hidden_size, num_classes).to(device)\n",
        "\n",
        "# Loss and optimizer\n",
        "criterion = nn.CrossEntropyLoss()\n",
        "optimizer = torch.optim.Adam(model.parameters(), lr=learning_rate)  "
      ],
      "metadata": {
        "id": "zRRge6bs134v"
      },
      "execution_count": 7,
      "outputs": []
    },
    {
      "cell_type": "code",
      "source": [
        "# Train the model\n",
        "total_step = len(train_loader)\n",
        "for epoch in range(num_epochs):\n",
        "    for i, (images, labels) in enumerate(train_loader): \n",
        "        # Move tensors to the configured device\n",
        "        images = images.reshape(-1, 28*28).to(device)\n",
        "        labels = labels.to(device)\n",
        "        \n",
        "        # Forward pass\n",
        "        outputs = model(images)\n",
        "        loss = criterion(outputs, labels)\n",
        "        \n",
        "        # Backward and optimize\n",
        "        optimizer.zero_grad()\n",
        "        loss.backward()\n",
        "        optimizer.step()\n",
        "        \n",
        "        if (i+1) % 100 == 0:\n",
        "            print ('Epoch [{}/{}], Step [{}/{}], Loss: {:.4f}' \n",
        "                   .format(epoch+1, num_epochs, i+1, total_step, loss.item()))"
      ],
      "metadata": {
        "colab": {
          "base_uri": "https://localhost:8080/"
        },
        "id": "_b8ecsK-19oA",
        "outputId": "46effc6d-ef7f-47fc-f5a2-aeb0da106437"
      },
      "execution_count": 8,
      "outputs": [
        {
          "output_type": "stream",
          "name": "stdout",
          "text": [
            "Epoch [1/5], Step [100/600], Loss: 0.3086\n",
            "Epoch [1/5], Step [200/600], Loss: 0.2133\n",
            "Epoch [1/5], Step [300/600], Loss: 0.0751\n",
            "Epoch [1/5], Step [400/600], Loss: 0.1887\n",
            "Epoch [1/5], Step [500/600], Loss: 0.1802\n",
            "Epoch [1/5], Step [600/600], Loss: 0.1266\n",
            "Epoch [2/5], Step [100/600], Loss: 0.2049\n",
            "Epoch [2/5], Step [200/600], Loss: 0.0505\n",
            "Epoch [2/5], Step [300/600], Loss: 0.0245\n",
            "Epoch [2/5], Step [400/600], Loss: 0.0164\n",
            "Epoch [2/5], Step [500/600], Loss: 0.0771\n",
            "Epoch [2/5], Step [600/600], Loss: 0.1220\n",
            "Epoch [3/5], Step [100/600], Loss: 0.0173\n",
            "Epoch [3/5], Step [200/600], Loss: 0.0471\n",
            "Epoch [3/5], Step [300/600], Loss: 0.0681\n",
            "Epoch [3/5], Step [400/600], Loss: 0.0108\n",
            "Epoch [3/5], Step [500/600], Loss: 0.0410\n",
            "Epoch [3/5], Step [600/600], Loss: 0.0273\n",
            "Epoch [4/5], Step [100/600], Loss: 0.1101\n",
            "Epoch [4/5], Step [200/600], Loss: 0.0219\n",
            "Epoch [4/5], Step [300/600], Loss: 0.0174\n",
            "Epoch [4/5], Step [400/600], Loss: 0.0241\n",
            "Epoch [4/5], Step [500/600], Loss: 0.0728\n",
            "Epoch [4/5], Step [600/600], Loss: 0.0177\n",
            "Epoch [5/5], Step [100/600], Loss: 0.0337\n",
            "Epoch [5/5], Step [200/600], Loss: 0.0147\n",
            "Epoch [5/5], Step [300/600], Loss: 0.0711\n",
            "Epoch [5/5], Step [400/600], Loss: 0.0557\n",
            "Epoch [5/5], Step [500/600], Loss: 0.0405\n",
            "Epoch [5/5], Step [600/600], Loss: 0.0067\n"
          ]
        }
      ]
    },
    {
      "cell_type": "code",
      "source": [
        "# Test the model\n",
        "# In test phase, we don't need to compute gradients (for memory efficiency)\n",
        "with torch.no_grad():\n",
        "    correct = 0\n",
        "    total = 0\n",
        "    for images, labels in test_loader:\n",
        "        images = images.reshape(-1, 28*28).to(device)\n",
        "        labels = labels.to(device)\n",
        "        outputs = model(images)\n",
        "        _, predicted = torch.max(outputs.data, 1)\n",
        "        total += labels.size(0)\n",
        "        correct += (predicted == labels).sum().item()\n",
        "\n",
        "    print('Accuracy of the network on the 10000 test images: {} %'.format(100 * correct / total))"
      ],
      "metadata": {
        "colab": {
          "base_uri": "https://localhost:8080/"
        },
        "id": "2Clnx-_92Ykz",
        "outputId": "28941033-0f4b-4b62-c5b5-11b06dc65e23"
      },
      "execution_count": 9,
      "outputs": [
        {
          "output_type": "stream",
          "name": "stdout",
          "text": [
            "Accuracy of the network on the 10000 test images: 97.67 %\n"
          ]
        }
      ]
    },
    {
      "cell_type": "markdown",
      "source": [
        "- Visualize"
      ],
      "metadata": {
        "id": "bO4mLMzm4U_K"
      }
    },
    {
      "cell_type": "code",
      "source": [
        "import matplotlib.pyplot as plt\n",
        "\n",
        "figure = plt.figure(figsize=(8, 8))\n",
        "cols, rows = 3, 3\n",
        "indices = []\n",
        "for i in range(1, cols * rows + 1):\n",
        "    sample_idx = torch.randint(len(test_dataset), size=(1,)).item()\n",
        "    indices.append(sample_idx)\n",
        "    img, label = test_dataset[sample_idx]\n",
        "    #print(img.shape)\n",
        "    figure.add_subplot(rows, cols, i)\n",
        "    plt.title('Original Label: '+str(label))\n",
        "    plt.axis(\"off\")\n",
        "    plt.imshow(img.squeeze(), cmap=\"gray\")\n",
        "plt.show()"
      ],
      "metadata": {
        "colab": {
          "base_uri": "https://localhost:8080/",
          "height": 482
        },
        "id": "jMZLRBx03cYO",
        "outputId": "171dc62d-108a-47e6-9ff4-47b979058027"
      },
      "execution_count": 55,
      "outputs": [
        {
          "output_type": "display_data",
          "data": {
            "text/plain": [
              "<Figure size 576x576 with 9 Axes>"
            ],
            "image/png": "[encoded data removed]"
          },
          "metadata": {
            "needs_background": "light"
          }
        }
      ]
    },
    {
      "cell_type": "code",
      "source": [
        "figure = plt.figure(figsize=(8, 8))\n",
        "cols, rows = 3, 3\n",
        "for i in range(1,len(indices)+1):\n",
        "    img, og_label = test_dataset[indices[i-1]]\n",
        "    img = img.reshape(-1, 28*28).to(device)\n",
        "    outputs = model(img)\n",
        "    # print(outputs.data) # something like tensor([[-12.5591,  -8.9011,  -1.5942,   0.3909, -16.9197, -14.8808, -21.0030, 15.4967,  -1.7179,   0.0993]], device='cuda:0')\n",
        "    _, predicted_label = torch.max(outputs.data, 1) # returns max along dimension 1\n",
        "    predicted_label = predicted_label.to(device)\n",
        "    figure.add_subplot(rows, cols, i)\n",
        "    predicted_label = predicted_label.cpu().numpy()\n",
        "    #print(predicted_label)\n",
        "    plt.title('Predicted: '+str(predicted_label[0]))\n",
        "    plt.axis(\"off\")\n",
        "    plt.imshow(img.cpu().reshape((28,28)).squeeze(), cmap=\"gray\")\n",
        "plt.show()"
      ],
      "metadata": {
        "colab": {
          "base_uri": "https://localhost:8080/",
          "height": 482
        },
        "id": "ODpUsTz24XB_",
        "outputId": "53678266-f4a9-4237-80f2-e359efc232c1"
      },
      "execution_count": 53,
      "outputs": [
        {
          "output_type": "display_data",
          "data": {
            "text/plain": [
              "<Figure size 576x576 with 9 Axes>"
            ],
            "image/png": "[encoded data removed]"
          },
          "metadata": {
            "needs_background": "light"
          }
        }
      ]
    }
  ]
}